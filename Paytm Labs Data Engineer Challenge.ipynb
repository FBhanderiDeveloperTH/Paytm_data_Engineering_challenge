{
 "cells": [
  {
   "cell_type": "code",
   "execution_count": 23,
   "metadata": {},
   "outputs": [],
   "source": [
    "from pyspark.sql import functions as F\n",
    "from pyspark.sql import types as T"
   ]
  },
  {
   "cell_type": "code",
   "execution_count": 5,
   "metadata": {},
   "outputs": [
    {
     "name": "stdout",
     "output_type": "stream",
     "text": [
      "+------------+-------------------+\n",
      "|COUNTRY_ABBR|       COUNTRY_FULL|\n",
      "+------------+-------------------+\n",
      "|          AA|              ARUBA|\n",
      "|          AC|ANTIGUA AND BARBUDA|\n",
      "|          AF|        AFGHANISTAN|\n",
      "|          AG|            ALGERIA|\n",
      "|          AI|   ASCENSION ISLAND|\n",
      "+------------+-------------------+\n",
      "\n",
      "root\n",
      " |-- COUNTRY_ABBR: string (nullable = true)\n",
      " |-- COUNTRY_FULL: string (nullable = true)\n",
      "\n",
      "Countries count: 288\n"
     ]
    }
   ],
   "source": [
    "# Countries\n",
    "countries = spark.read.option('header', True).option('inferSchema', True).csv('countrylist.csv')\n",
    "countries.limit(5).show()\n",
    "countries.printSchema()\n",
    "countries_count = countries.count()\n",
    "print(f'Countries count: {countries_count}')"
   ]
  },
  {
   "cell_type": "code",
   "execution_count": 9,
   "metadata": {},
   "outputs": [
    {
     "name": "stdout",
     "output_type": "stream",
     "text": [
      "root\n",
      " |-- STN_NO: string (nullable = true)\n",
      " |-- COUNTRY_ABBR: string (nullable = true)\n",
      "\n",
      "+------+------------+\n",
      "|STN_NO|COUNTRY_ABBR|\n",
      "+------+------------+\n",
      "|012240|          NO|\n",
      "|020690|          SW|\n",
      "|020870|          SW|\n",
      "|021190|          SW|\n",
      "|032690|          UK|\n",
      "+------+------------+\n",
      "\n",
      "Stations count: 25306\n"
     ]
    }
   ],
   "source": [
    "# Station list\n",
    "stations = spark.read.option('header', True).option('inferSchema', True).csv('stationlist.csv')\n",
    "stations.printSchema()\n",
    "stations.limit(5).show()\n",
    "stations_count = stations.count()\n",
    "print(f'Stations count: {stations_count}')"
   ]
  },
  {
   "cell_type": "code",
   "execution_count": 31,
   "metadata": {},
   "outputs": [],
   "source": [
    "# Weather\n",
    "schema = StructType() \\\n",
    ".add('STN---', T.IntegerType(),True) \\\n",
    ".add('WBAN', T.IntegerType(),True) \\\n",
    ".add('YEARMODA', T.IntegerType(),True) \\\n",
    ".add('TEMP', T.DoubleType(),True) \\\n",
    ".add('DEWP', T.DoubleType(),True) \\\n",
    ".add('SLP', T.DoubleType(),True) \\\n",
    ".add('STP', T.DoubleType(),True) \\\n",
    ".add('VISIB', T.DoubleType(),True) \\\n",
    ".add('WDSP', T.DoubleType(),True) \\\n",
    ".add('MXSPD', T.DoubleType(),True) \\\n",
    ".add('GUST', T.DoubleType(),True) \\\n",
    ".add('MAX', T.StringType(),True) \\\n",
    ".add('MIN', T.StringType(),True) \\\n",
    ".add('PRCP', T.DoubleType(),True) \\\n",
    ".add('SNDP', T.DoubleType(),True) \\\n",
    ".add('FRSHTT', T.StringType(),True)"
   ]
  },
  {
   "cell_type": "code",
   "execution_count": 32,
   "metadata": {},
   "outputs": [
    {
     "name": "stdout",
     "output_type": "stream",
     "text": [
      "root\n",
      " |-- STN---: integer (nullable = true)\n",
      " |-- WBAN: integer (nullable = true)\n",
      " |-- YEARMODA: integer (nullable = true)\n",
      " |-- TEMP: double (nullable = true)\n",
      " |-- DEWP: double (nullable = true)\n",
      " |-- SLP: double (nullable = true)\n",
      " |-- STP: double (nullable = true)\n",
      " |-- VISIB: double (nullable = true)\n",
      " |-- WDSP: double (nullable = true)\n",
      " |-- MXSPD: double (nullable = true)\n",
      " |-- GUST: double (nullable = true)\n",
      " |-- MAX: string (nullable = true)\n",
      " |-- MIN: string (nullable = true)\n",
      " |-- PRCP: double (nullable = true)\n",
      " |-- SNDP: double (nullable = true)\n",
      " |-- FRSHTT: string (nullable = true)\n",
      "\n"
     ]
    }
   ],
   "source": [
    "# Weather\n",
    "weather = spark.read.option('header', True).option('inferSchema', False).schema(schema).csv('data/2019')\n",
    "weather.printSchema()"
   ]
  },
  {
   "cell_type": "code",
   "execution_count": 33,
   "metadata": {},
   "outputs": [
    {
     "name": "stdout",
     "output_type": "stream",
     "text": [
      "+------+-----+--------+----+----+------+------+-----+----+-----+----+-----+-----+----+-----+------+\n",
      "|STN---| WBAN|YEARMODA|TEMP|DEWP|   SLP|   STP|VISIB|WDSP|MXSPD|GUST|  MAX|  MIN|PRCP| SNDP|FRSHTT|\n",
      "+------+-----+--------+----+----+------+------+-----+----+-----+----+-----+-----+----+-----+------+\n",
      "| 10260|99999|20190101|26.1|21.2|1001.9| 987.5| 20.6| 9.0| 15.9|29.7| 29.8|21.7*|null| 18.5|001000|\n",
      "| 10260|99999|20190102|24.9|22.1|1020.1|1005.5|  5.4| 5.6| 13.6|22.1|27.1*| 20.7|null| 22.8|001000|\n",
      "| 10260|99999|20190103|31.7|29.1|1008.9| 994.7| 13.6|11.6| 21.4|49.5|37.4*|26.8*|null|999.9|011000|\n",
      "| 10260|99999|20190104|32.9|30.3|1011.4| 997.1| 15.8| 4.9|  7.8|10.9| 36.1| 31.8|null|999.9|001000|\n",
      "| 10260|99999|20190105|35.5|33.0|1015.7|1001.4| 12.0|10.4| 13.6|21.0|38.5*| 32.7|null| 23.6|010000|\n",
      "+------+-----+--------+----+----+------+------+-----+----+-----+----+-----+-----+----+-----+------+\n",
      "\n"
     ]
    }
   ],
   "source": [
    "weather.limit(5).show()"
   ]
  },
  {
   "cell_type": "code",
   "execution_count": 36,
   "metadata": {},
   "outputs": [],
   "source": [
    "# Country names by station\n",
    "full_country_names_by_station = stations.join(F.broadcast(countries), 'COUNTRY_ABBR', 'left')"
   ]
  },
  {
   "cell_type": "markdown",
   "metadata": {},
   "source": [
    "Check for missing country full names"
   ]
  },
  {
   "cell_type": "code",
   "execution_count": 37,
   "metadata": {},
   "outputs": [
    {
     "name": "stdout",
     "output_type": "stream",
     "text": [
      "+------------+-----+\n",
      "|COUNTRY_ABBR|count|\n",
      "+------------+-----+\n",
      "|          UC|    1|\n",
      "|          RI|   37|\n",
      "|          OD|   14|\n",
      "|          AE|   22|\n",
      "|          KV|    6|\n",
      "|          MJ|   12|\n",
      "|          NN|    1|\n",
      "|          TT|    4|\n",
      "+------------+-----+\n",
      "\n"
     ]
    }
   ],
   "source": [
    "full_country_names_by_station.where('COUNTRY_FULL IS NULL').groupBy('COUNTRY_ABBR').count().limit(100).show()"
   ]
  },
  {
   "cell_type": "markdown",
   "metadata": {},
   "source": [
    "According to: https://en.wikipedia.org/wiki/List_of_FIPS_country_codes the missing codes are:\n",
    "* UC Curaçao\n",
    "* RI Serbia\n",
    "* OD South Sudan\n",
    "* AE United Arab Emirates\n",
    "* KV Kosovo\n",
    "* MJ Montenegro\n",
    "* NN Sint Maarten\n",
    "* TT Timor-Leste"
   ]
  },
  {
   "cell_type": "code",
   "execution_count": 38,
   "metadata": {},
   "outputs": [],
   "source": [
    "missing_countries = spark.createDataFrame([\n",
    "    ('UC', 'CURAÇAO'), \n",
    "    ('RI', 'SERBIA'),\n",
    "    ('OD', 'SOUTH SUDAN'),\n",
    "    ('AE', 'UNITED ARAB EMIRATES'),\n",
    "    ('KV', 'KOSOVO'),\n",
    "    ('MJ', 'MONTENEGRO'),\n",
    "    ('NN', 'SINT MAARTEN'),\n",
    "    ('TT', 'TIMOR-LESTE')], (\"COUNTRY_ABBR\", \"COUNTRY_FULL\"))\n",
    "\n",
    "completed_countries = countries.union(missing_countries)\n",
    "full_country_names_by_station = stations.join(F.broadcast(completed_countries), 'COUNTRY_ABBR', 'left')"
   ]
  },
  {
   "cell_type": "markdown",
   "metadata": {},
   "source": [
    "Check for missing country full names again"
   ]
  },
  {
   "cell_type": "code",
   "execution_count": 39,
   "metadata": {},
   "outputs": [
    {
     "name": "stdout",
     "output_type": "stream",
     "text": [
      "+------------+-----+\n",
      "|COUNTRY_ABBR|count|\n",
      "+------------+-----+\n",
      "+------------+-----+\n",
      "\n"
     ]
    }
   ],
   "source": [
    "full_country_names_by_station.where('COUNTRY_FULL IS NULL').groupBy('COUNTRY_ABBR').count().limit(100).show()"
   ]
  },
  {
   "cell_type": "code",
   "execution_count": 41,
   "metadata": {},
   "outputs": [
    {
     "name": "stdout",
     "output_type": "stream",
     "text": [
      "+------+-----+--------+----+----+------+------+-----+----+-----+----+-----+-----+----+-----+------+------------+------------+\n",
      "|STN_NO| WBAN|YEARMODA|TEMP|DEWP|   SLP|   STP|VISIB|WDSP|MXSPD|GUST|  MAX|  MIN|PRCP| SNDP|FRSHTT|COUNTRY_ABBR|COUNTRY_FULL|\n",
      "+------+-----+--------+----+----+------+------+-----+----+-----+----+-----+-----+----+-----+------+------------+------------+\n",
      "| 10260|99999|20190101|26.1|21.2|1001.9| 987.5| 20.6| 9.0| 15.9|29.7| 29.8|21.7*|null| 18.5|001000|          NO|      NORWAY|\n",
      "| 10260|99999|20190102|24.9|22.1|1020.1|1005.5|  5.4| 5.6| 13.6|22.1|27.1*| 20.7|null| 22.8|001000|          NO|      NORWAY|\n",
      "| 10260|99999|20190103|31.7|29.1|1008.9| 994.7| 13.6|11.6| 21.4|49.5|37.4*|26.8*|null|999.9|011000|          NO|      NORWAY|\n",
      "| 10260|99999|20190104|32.9|30.3|1011.4| 997.1| 15.8| 4.9|  7.8|10.9| 36.1| 31.8|null|999.9|001000|          NO|      NORWAY|\n",
      "| 10260|99999|20190105|35.5|33.0|1015.7|1001.4| 12.0|10.4| 13.6|21.0|38.5*| 32.7|null| 23.6|010000|          NO|      NORWAY|\n",
      "+------+-----+--------+----+----+------+------+-----+----+-----+----+-----+-----+----+-----+------+------------+------------+\n",
      "\n"
     ]
    }
   ],
   "source": [
    "# Weather data by station\n",
    "weather_data_by_station = weather.withColumnRenamed('STN---', 'STN_NO') \\\n",
    ".join(F.broadcast(full_country_names_by_station), 'STN_NO', 'left')\n",
    "\n",
    "weather_data_by_station.limit(5).show()"
   ]
  },
  {
   "cell_type": "code",
   "execution_count": 42,
   "metadata": {},
   "outputs": [
    {
     "data": {
      "text/plain": [
       "4161334"
      ]
     },
     "execution_count": 42,
     "metadata": {},
     "output_type": "execute_result"
    }
   ],
   "source": [
    "weather_data_by_station.count()"
   ]
  },
  {
   "cell_type": "markdown",
   "metadata": {},
   "source": [
    "Check if there are stations with no corresponding row in the stations dataframe"
   ]
  },
  {
   "cell_type": "code",
   "execution_count": 43,
   "metadata": {},
   "outputs": [
    {
     "name": "stdout",
     "output_type": "stream",
     "text": [
      "+------+----+--------+----+----+---+---+-----+----+-----+----+---+---+----+----+------+------------+------------+\n",
      "|STN_NO|WBAN|YEARMODA|TEMP|DEWP|SLP|STP|VISIB|WDSP|MXSPD|GUST|MAX|MIN|PRCP|SNDP|FRSHTT|COUNTRY_ABBR|COUNTRY_FULL|\n",
      "+------+----+--------+----+----+---+---+-----+----+-----+----+---+---+----+----+------+------------+------------+\n",
      "+------+----+--------+----+----+---+---+-----+----+-----+----+---+---+----+----+------+------------+------------+\n",
      "\n"
     ]
    }
   ],
   "source": [
    "weather_data_by_station.where('COUNTRY_FULL IS NULL').show()"
   ]
  },
  {
   "cell_type": "code",
   "execution_count": 47,
   "metadata": {},
   "outputs": [
    {
     "name": "stdout",
     "output_type": "stream",
     "text": [
      "+------------+------------------------+\n",
      "|COUNTRY_FULL|AVG_MEAN_TEMP_BY_COUNTRY|\n",
      "+------------+------------------------+\n",
      "|    DJIBOUTI|       90.06114457831325|\n",
      "| SOUTH SUDAN|       88.38571428571429|\n",
      "|        CHAD|       87.36099706744868|\n",
      "|       NIGER|       85.06022291247946|\n",
      "|       SUDAN|       84.45494186046503|\n",
      "+------------+------------------------+\n",
      "\n"
     ]
    }
   ],
   "source": [
    "# Question 1: Which country had the hottest average mean temperature over the year?\n",
    "\n",
    "weather_data_by_station.select('COUNTRY_FULL', 'TEMP') \\\n",
    ".filter('TEMP IS NOT NULL AND TEMP < 9999.9') \\\n",
    ".groupBy('COUNTRY_FULL').agg(F.avg(F.col('TEMP')).alias('AVG_MEAN_TEMP_BY_COUNTRY')) \\\n",
    ".sort(F.col('AVG_MEAN_TEMP_BY_COUNTRY').desc()) \\\n",
    ".limit(5).show()\n"
   ]
  },
  {
   "cell_type": "markdown",
   "metadata": {},
   "source": [
    "Answer: DJIBOUTI"
   ]
  },
  {
   "cell_type": "code",
   "execution_count": 83,
   "metadata": {},
   "outputs": [
    {
     "name": "stdout",
     "output_type": "stream",
     "text": [
      "+------------+--------+----+\n",
      "|COUNTRY_FULL|YEARMODA|T_FC|\n",
      "+------------+--------+----+\n",
      "|      NORWAY|20190101|   0|\n",
      "|      NORWAY|20190102|   0|\n",
      "|      NORWAY|20190103|   0|\n",
      "|      NORWAY|20190104|   0|\n",
      "|      NORWAY|20190105|   0|\n",
      "+------------+--------+----+\n",
      "\n"
     ]
    }
   ],
   "source": [
    "# Question 2: Which country had the most consecutive days of tornadoes/funnel cloud formations?\n",
    "\n",
    "t_fc_col = F.split(F.col('FRSHTT'), '').getItem(5).cast('int').alias('T_FC')\n",
    "t_fc_by_station = weather_data_by_station.select('COUNTRY_FULL', 'YEARMODA', t_fc_col)\n",
    "t_fc_by_station.limit(5).show()"
   ]
  },
  {
   "cell_type": "code",
   "execution_count": 84,
   "metadata": {},
   "outputs": [],
   "source": [
    "def max_t_fc_consecutive_days(t_fc_consecutive_days):\n",
    "    max_consecutive_days = 0\n",
    "    count = 0\n",
    "    # all consecutive days\n",
    "    for t_fc in t_fc_consecutive_days:\n",
    "        # a day without t or fc restarts the count\n",
    "        if t_fc == 0: \n",
    "            if count > max_consecutive_days:\n",
    "                max_consecutive_days = count\n",
    "            count = 0\n",
    "        # a consecutive day with t or fc\n",
    "        else:\n",
    "            count += 1\n",
    "    return max_consecutive_days \n",
    "\n",
    "max_t_fc_consecutive_days_udf = F.udf(max_t_fc_consecutive_days, IntegerType())"
   ]
  },
  {
   "cell_type": "code",
   "execution_count": 85,
   "metadata": {},
   "outputs": [
    {
     "name": "stdout",
     "output_type": "stream",
     "text": [
      "+--------------+-------------------------+\n",
      "|  COUNTRY_FULL|MAX_T_FC_CONSECUTIVE_DAYS|\n",
      "+--------------+-------------------------+\n",
      "|         JAPAN|                        2|\n",
      "|        CANADA|                        2|\n",
      "|CAYMAN ISLANDS|                        2|\n",
      "|         INDIA|                        2|\n",
      "|         ITALY|                        2|\n",
      "| UNITED STATES|                        2|\n",
      "|         GHANA|                        2|\n",
      "|      MALDIVES|                        1|\n",
      "|UNITED KINGDOM|                        1|\n",
      "|   BAHAMAS THE|                        1|\n",
      "+--------------+-------------------------+\n",
      "\n"
     ]
    }
   ],
   "source": [
    "t_fc_by_station.groupBy('COUNTRY_FULL', 'YEARMODA') \\\n",
    ".agg(F.max(F.col('T_FC')).alias('T_FC_REPORTED_BY_ANY_STATION_BY_DAY')) \\\n",
    ".orderBy(F.col('COUNTRY_FULL').asc(), F.col('YEARMODA').asc()) \\\n",
    ".groupBy('COUNTRY_FULL').agg(F.collect_list(F.col('T_FC_REPORTED_BY_ANY_STATION_BY_DAY')).alias('T_FC_CONSECUTIVE_DAYS_LIST')) \\\n",
    ".select('COUNTRY_FULL', max_t_fc_consecutive_days_udf(F.col('T_FC_CONSECUTIVE_DAYS_LIST')).alias('MAX_T_FC_CONSECUTIVE_DAYS')) \\\n",
    ".orderBy(F.col('MAX_T_FC_CONSECUTIVE_DAYS').desc()) \\\n",
    ".limit(10).show()"
   ]
  },
  {
   "cell_type": "markdown",
   "metadata": {},
   "source": [
    "Answer: JAPAN, CANADA, CAYMAN ISLANDS, INDIA, ITALY, UNITED STATES, and GHANA."
   ]
  },
  {
   "cell_type": "code",
   "execution_count": 90,
   "metadata": {},
   "outputs": [
    {
     "name": "stdout",
     "output_type": "stream",
     "text": [
      "+------------+--------+-----------------------------------+\n",
      "|COUNTRY_FULL|YEARMODA|T_FC_REPORTED_BY_ANY_STATION_BY_DAY|\n",
      "+------------+--------+-----------------------------------+\n",
      "| AFGHANISTAN|20190101|                                  0|\n",
      "| AFGHANISTAN|20190102|                                  0|\n",
      "| AFGHANISTAN|20190103|                                  0|\n",
      "| AFGHANISTAN|20190104|                                  0|\n",
      "| AFGHANISTAN|20190105|                                  0|\n",
      "| AFGHANISTAN|20190106|                                  0|\n",
      "| AFGHANISTAN|20190107|                                  0|\n",
      "| AFGHANISTAN|20190108|                                  0|\n",
      "| AFGHANISTAN|20190109|                                  0|\n",
      "| AFGHANISTAN|20190110|                                  0|\n",
      "+------------+--------+-----------------------------------+\n",
      "\n"
     ]
    }
   ],
   "source": [
    "# WIP to avoid UDFs\n",
    "\n",
    "# Sorts the data by country and date and calculates if any station reported a tornado or funnel cloud during that day.\n",
    "country_date_t_fc = t_fc_by_station.groupBy('COUNTRY_FULL', 'YEARMODA') \\\n",
    ".agg(F.max(F.col('T_FC')).alias('T_FC_REPORTED_BY_ANY_STATION_BY_DAY')) \\\n",
    ".orderBy(F.col('COUNTRY_FULL').asc(), F.col('YEARMODA').asc())\n",
    "\n",
    "country_date_t_fc.limit(10).show()"
   ]
  },
  {
   "cell_type": "code",
   "execution_count": 105,
   "metadata": {},
   "outputs": [
    {
     "name": "stdout",
     "output_type": "stream",
     "text": [
      "+------------+--------+-----------------------------------+--------+\n",
      "|COUNTRY_FULL|YEARMODA|T_FC_REPORTED_BY_ANY_STATION_BY_DAY|PREV_DAY|\n",
      "+------------+--------+-----------------------------------+--------+\n",
      "|       JAPAN|20190101|                                  0|    null|\n",
      "|       JAPAN|20190102|                                  0|    null|\n",
      "|       JAPAN|20190103|                                  0|    null|\n",
      "|       JAPAN|20190104|                                  0|    null|\n",
      "|       JAPAN|20190105|                                  0|    null|\n",
      "|       JAPAN|20190106|                                  0|    null|\n",
      "|       JAPAN|20190107|                                  0|    null|\n",
      "|       JAPAN|20190108|                                  0|    null|\n",
      "|       JAPAN|20190109|                                  0|    null|\n",
      "|       JAPAN|20190110|                                  0|    null|\n",
      "+------------+--------+-----------------------------------+--------+\n",
      "\n"
     ]
    }
   ],
   "source": [
    "from pyspark.sql.window import Window\n",
    "date_window = Window.partitionBy('COUNTRY_FULL', 'YEARMODA').orderBy('COUNTRY_FULL', 'YEARMODA')\n",
    "\n",
    "country_date_t_fc.withColumn(\"PREV_DAY\", F.lag(F.col('T_FC_REPORTED_BY_ANY_STATION_BY_DAY')).over(date_window))\\\n",
    ".orderBy(F.col('COUNTRY_FULL').asc(), F.col('YEARMODA').asc()) \\\n",
    ".where(\"COUNTRY_FULL = 'JAPAN'\") \\\n",
    ".limit(10).show()"
   ]
  },
  {
   "cell_type": "markdown",
   "metadata": {},
   "source": [
    "// TODO Complete the Window to avoid using UDFs."
   ]
  },
  {
   "cell_type": "code",
   "execution_count": 52,
   "metadata": {},
   "outputs": [
    {
     "name": "stdout",
     "output_type": "stream",
     "text": [
      "+------------+-------------------+\n",
      "|COUNTRY_FULL|AVG_WDSP_BY_COUNTRY|\n",
      "+------------+-------------------+\n",
      "|       ARUBA| 15.975683060109283|\n",
      "+------------+-------------------+\n",
      "\n"
     ]
    }
   ],
   "source": [
    "# Question 3: Which country had the second highest average mean wind speed over the year?\n",
    "\n",
    "weather_data_by_station.select('COUNTRY_FULL', 'WDSP') \\\n",
    ".filter('WDSP IS NOT NULL AND WDSP < 999.9') \\\n",
    ".groupBy('COUNTRY_FULL').agg(F.avg(F.col('WDSP')).alias('AVG_WDSP_BY_COUNTRY')) \\\n",
    ".sort(F.col('AVG_WDSP_BY_COUNTRY').desc()).limit(2) \\\n",
    ".sort(F.col('AVG_WDSP_BY_COUNTRY').asc()).limit(1) \\\n",
    ".show()"
   ]
  },
  {
   "cell_type": "markdown",
   "metadata": {},
   "source": [
    "Answer: Aruba"
   ]
  },
  {
   "cell_type": "code",
   "execution_count": null,
   "metadata": {},
   "outputs": [],
   "source": []
  }
 ],
 "metadata": {
  "kernelspec": {
   "display_name": "Python 3",
   "language": "python",
   "name": "python3"
  },
  "language_info": {
   "codemirror_mode": {
    "name": "ipython",
    "version": 3
   },
   "file_extension": ".py",
   "mimetype": "text/x-python",
   "name": "python",
   "nbconvert_exporter": "python",
   "pygments_lexer": "ipython3",
   "version": "3.7.0"
  }
 },
 "nbformat": 4,
 "nbformat_minor": 2
}
